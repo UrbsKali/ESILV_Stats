{
 "cells": [
  {
   "cell_type": "code",
   "execution_count": 3,
   "id": "a7ce0029-dea8-464d-ad01-84d1927ea3d8",
   "metadata": {
    "tags": []
   },
   "outputs": [
    {
     "name": "stdout",
     "output_type": "stream",
     "text": [
      "Etude des outliers\n"
     ]
    }
   ],
   "source": [
    "import numpy as np\n",
    "import scipy\n",
    "import scipy.stats as stats\n",
    "import scipy.linalg as linalg\n",
    "import pandas \n",
    "import matplotlib.pyplot as plt\n",
    "import seaborn as sns\n",
    "import pandas\n",
    "from matplotlib.ticker import AutoMinorLocator\n",
    "import matplotlib.ticker as ticker\n",
    "\n",
    "print ('Etude des outliers')\n",
    "donnees = pandas.read_table(\"C:/Users/cuine/Downloads/Films_Animation.csv\", sep=\",\")\n"
   ]
  },
  {
   "cell_type": "code",
   "execution_count": 4,
   "id": "2129d548-7540-4ae5-a74a-da45e1a369af",
   "metadata": {
    "tags": []
   },
   "outputs": [
    {
     "name": "stdout",
     "output_type": "stream",
     "text": [
      "Etude pour rating\n",
      "\n",
      "L’écart interquartile est de : 0.4\n",
      "Pas de valeur aberrante pour Rating\n"
     ]
    }
   ],
   "source": [
    "print('Etude pour rating\\n')\n",
    "Q1, Q3 = donnees['Rating'].quantile([1/4, 3/4])\n",
    "IQR = Q3 - Q1\n",
    "\n",
    "\n",
    "print('L’écart interquartile est de :', round(IQR,2))\n",
    "aberrant_values = (donnees['Rating'] < Q1 - 1.5 * IQR) | (donnees['Rating'] > Q3 + 1.5 * IQR)\n",
    "\n",
    "if not aberrant_values.any():\n",
    "    print(\"Pas de valeur aberrante pour Rating\")\n",
    "else:\n",
    "    print('Outliers potentiels :\\n\\n',donnees.loc[aberrant_values, ['Title', 'Rating']])\n"
   ]
  },
  {
   "cell_type": "code",
   "execution_count": 5,
   "id": "29055895-28d7-4d3d-b8ad-f7c203300428",
   "metadata": {
    "tags": []
   },
   "outputs": [
    {
     "name": "stdout",
     "output_type": "stream",
     "text": [
      "Etude pour Votes\n",
      "Résultats du test de Tukey\n",
      "\n",
      "L’écart interquartile est de : 381366.0\n",
      "Outliers potentiels :\n",
      "\n",
      "             Title      Votes\n",
      "1   The Lion King  1,041,158\n",
      "6          WALL·E  1,100,175\n",
      "8              Up  1,029,395\n",
      "14   Finding Nemo  1,031,038\n"
     ]
    }
   ],
   "source": [
    "print('Etude pour Votes\\nRésultats du test de Tukey\\n')\n",
    "Q1, Q3 = donnees['Votes'].str.replace(',', '').astype(float).quantile([1/4, 3/4])\n",
    "IQR = Q3 - Q1\n",
    "\n",
    "print('L’écart interquartile est de :', round(IQR,2))\n",
    "\n",
    "aberrant_values = (donnees['Votes'].str.replace(',', '').astype(float) < Q1 - 1.5 * IQR) | (donnees['Votes'].str.replace(',', '').astype(float) > Q3 + 1.5 * IQR)\n",
    "\n",
    "if not aberrant_values.any():\n",
    "    print(\"Pas de valeur aberrante pour Votes\")\n",
    "else:\n",
    "    print('Outliers potentiels :\\n\\n',donnees.loc[aberrant_values, ['Title', 'Votes']])"
   ]
  },
  {
   "cell_type": "code",
   "execution_count": 6,
   "id": "45605daa-7670-437e-863f-f3e31175108d",
   "metadata": {},
   "outputs": [
    {
     "name": "stdout",
     "output_type": "stream",
     "text": [
      "Etude des outliers pour Gross\n",
      "Résultats du test de Tukey\n",
      "\n",
      "L’écart interquartile est de : 217.19\n",
      "Outliers potentiels :\n",
      "\n",
      "             Title     Gross\n",
      "76  Incredibles 2  $608.58M\n"
     ]
    }
   ],
   "source": [
    "print('Etude des outliers pour Gross\\nRésultats du test de Tukey\\n')\n",
    "Q1, Q3 = donnees['Gross'].str.replace('$', '').str.replace('M', '').astype(float).quantile([1/4, 3/4])\n",
    "IQR = Q3 - Q1\n",
    "\n",
    "print('L’écart interquartile est de :', round(IQR,2))\n",
    "\n",
    "aberrant_values = (donnees['Gross'].str.replace('$', '').str.replace('M','').astype(float) < Q1 - 1.5 * IQR) | (donnees['Gross'].str.replace('$', '').str.replace('M','').astype(float) > Q3 + 1.5 * IQR)\n",
    "\n",
    "if not aberrant_values.any():\n",
    "    print(\"Pas de valeur aberrante pour Gross\")\n",
    "else:\n",
    "    print('Outliers potentiels :\\n\\n',donnees.loc[aberrant_values, ['Title', 'Gross']])\n"
   ]
  },
  {
   "cell_type": "code",
   "execution_count": 7,
   "id": "c66e2ed1-83cd-4c75-b2d7-256db35ae0f9",
   "metadata": {
    "tags": []
   },
   "outputs": [
    {
     "name": "stdout",
     "output_type": "stream",
     "text": [
      "Etude des outliers pour Metascore\n",
      "Résultats du test de Tukey\n",
      "\n",
      "L’écart interquartile est de : 13.0\n",
      "Pas de valeur aberrante pour Metascore\n"
     ]
    }
   ],
   "source": [
    "print('Etude des outliers pour Metascore\\nRésultats du test de Tukey\\n')\n",
    "Q1, Q3 = donnees['Metascore'].quantile([1/4, 3/4])\n",
    "IQR = Q3 - Q1\n",
    "\n",
    "print('L’écart interquartile est de :', round(IQR,2))\n",
    "\n",
    "aberrant_values = (donnees['Metascore'] < Q1 - 1.5 * IQR) | (donnees['Metascore'] > Q3 + 1.5 * IQR)\n",
    "\n",
    "if not aberrant_values.any():\n",
    "    print(\"Pas de valeur aberrante pour Metascore\")\n",
    "else:\n",
    "    print('Outliers potentiels :\\n\\n',donnees.loc[aberrant_values, ['Title', 'Metascore']])"
   ]
  },
  {
   "cell_type": "code",
   "execution_count": 8,
   "id": "f3c04f31-19db-47e5-8e8f-e39954edf439",
   "metadata": {
    "tags": []
   },
   "outputs": [
    {
     "name": "stdout",
     "output_type": "stream",
     "text": [
      "Etude des outliers pour Year\n",
      "Résultats du test de Tukey\n",
      "\n",
      "L’écart interquartile est de : 19.0\n",
      "Outliers potentiels :\n",
      "\n",
      "                               Title  Year\n",
      "74                         Fantasia  1940\n",
      "84  Snow White and the Seven Dwarfs  1937\n"
     ]
    }
   ],
   "source": [
    "print('Etude des outliers pour Year\\nRésultats du test de Tukey\\n')\n",
    "Q1, Q3 = donnees['Year'].quantile([1/4, 3/4])\n",
    "IQR = Q3 - Q1\n",
    "\n",
    "print('L’écart interquartile est de :', round(IQR,2))\n",
    "\n",
    "aberrant_values = (donnees['Year'] < Q1 - 1.5 * IQR) | (donnees['Year'] > Q3 + 1.5 * IQR) | (donnees['Year'] > 2024)\n",
    "\n",
    "if not aberrant_values.any():\n",
    "    print(\"Pas de valeur aberrante pour Year\")\n",
    "else:\n",
    "    print('Outliers potentiels :\\n\\n',donnees.loc[aberrant_values, ['Title', 'Year']])"
   ]
  },
  {
   "cell_type": "code",
   "execution_count": null,
   "id": "9d2f070d-1599-4479-8bec-4475992398ca",
   "metadata": {},
   "outputs": [],
   "source": []
  }
 ],
 "metadata": {
  "kernelspec": {
   "display_name": "Python 3 (ipykernel)",
   "language": "python",
   "name": "python3"
  },
  "language_info": {
   "codemirror_mode": {
    "name": "ipython",
    "version": 3
   },
   "file_extension": ".py",
   "mimetype": "text/x-python",
   "name": "python",
   "nbconvert_exporter": "python",
   "pygments_lexer": "ipython3",
   "version": "3.11.7"
  }
 },
 "nbformat": 4,
 "nbformat_minor": 5
}
